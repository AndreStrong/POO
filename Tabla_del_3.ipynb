{
  "nbformat": 4,
  "nbformat_minor": 0,
  "metadata": {
    "colab": {
      "name": "Tabla del 3.ipynb",
      "provenance": [],
      "collapsed_sections": [],
      "authorship_tag": "ABX9TyMJnrvm66frhilKODrzot1a",
      "include_colab_link": true
    },
    "kernelspec": {
      "name": "python3",
      "display_name": "Python 3"
    },
    "language_info": {
      "name": "python"
    }
  },
  "cells": [
    {
      "cell_type": "markdown",
      "metadata": {
        "id": "view-in-github",
        "colab_type": "text"
      },
      "source": [
        "<a href=\"https://colab.research.google.com/github/AndreStrong/POO/blob/main/Tabla_del_3.ipynb\" target=\"_parent\"><img src=\"https://colab.research.google.com/assets/colab-badge.svg\" alt=\"Open In Colab\"/></a>"
      ]
    },
    {
      "cell_type": "code",
      "metadata": {
        "colab": {
          "base_uri": "https://localhost:8080/"
        },
        "id": "pEoiuOaWkj7L",
        "outputId": "1354d6fb-58ac-422b-bbe0-3e05bfe09010"
      },
      "source": [
        "#Programa tablas de multiplicar\n",
        "iterador = 0\n",
        "\n",
        "print(\"Hola hago la tabla de multiplicar del 3\")\n",
        "\n",
        "numeroUsuario= 3\n",
        "\n",
        "while iterador<10:\n",
        "    iterador= iterador + 1\n",
        "    resutado = numeroUsuario*iterador\n",
        "    print (str(numeroUsuario)  + str(\" x \") + str(iterador) + str(\" = \") + str(resutado) )"
      ],
      "execution_count": 1,
      "outputs": [
        {
          "output_type": "stream",
          "name": "stdout",
          "text": [
            "Hola hago la tabla de multiplicar del 3\n",
            "3 x 1 = 3\n",
            "3 x 2 = 6\n",
            "3 x 3 = 9\n",
            "3 x 4 = 12\n",
            "3 x 5 = 15\n",
            "3 x 6 = 18\n",
            "3 x 7 = 21\n",
            "3 x 8 = 24\n",
            "3 x 9 = 27\n",
            "3 x 10 = 30\n"
          ]
        }
      ]
    }
  ]
}