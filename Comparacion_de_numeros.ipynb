{
  "nbformat": 4,
  "nbformat_minor": 0,
  "metadata": {
    "colab": {
      "name": "Comparacion de numeros.ipynb",
      "provenance": [],
      "collapsed_sections": [],
      "authorship_tag": "ABX9TyPYz93MS2Wppa2/p4xXccHv",
      "include_colab_link": true
    },
    "kernelspec": {
      "name": "python3",
      "display_name": "Python 3"
    },
    "language_info": {
      "name": "python"
    }
  },
  "cells": [
    {
      "cell_type": "markdown",
      "metadata": {
        "id": "view-in-github",
        "colab_type": "text"
      },
      "source": [
        "<a href=\"https://colab.research.google.com/github/AndreStrong/POO/blob/main/Comparacion_de_numeros.ipynb\" target=\"_parent\"><img src=\"https://colab.research.google.com/assets/colab-badge.svg\" alt=\"Open In Colab\"/></a>"
      ]
    },
    {
      "cell_type": "code",
      "metadata": {
        "colab": {
          "base_uri": "https://localhost:8080/"
        },
        "id": "8VbQPm6AlqWP",
        "outputId": "608ae14c-ac85-45f3-f3b4-7c7fd5d0ee5f"
      },
      "source": [
        "print(\"Hola puedo comparar 2 numeros que pongas\")\n",
        "\n",
        "numero1= int(input(\"Ingrese un digito: \"))\n",
        "\n",
        "numero2= int(input(\"Ingrese otro digito: \"))\n",
        "\n",
        "if numero1 == numero2:\n",
        "  print(str (\"El numero \" + str (numero1) + str(\" es igual que \") + str(numero2) ))\n",
        "\n",
        "elif numero1>numero2:\n",
        "    print(str (\"El numero \" + str (numero1) + str(\" es mayor que \") + str(numero2) ))\n",
        "\n",
        "elif numero2>numero1:\n",
        "    print(str (\"El numero \" + str (numero1) + str(\" es menor que \") + str(numero2) ))\n"
      ],
      "execution_count": 6,
      "outputs": [
        {
          "output_type": "stream",
          "name": "stdout",
          "text": [
            "Hola puedo comparar 2 numeros que pongas\n",
            "Ingrese un digito5000\n",
            "Ingrese otro digito-5000\n",
            "El numero 5000 es mayor que -5000\n"
          ]
        }
      ]
    }
  ]
}